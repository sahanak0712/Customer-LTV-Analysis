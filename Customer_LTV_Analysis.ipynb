{
 "cells": [
  {
   "cell_type": "markdown",
   "id": "1a854246",
   "metadata": {},
   "source": [
    "# 🧾 Customer Lifetime Value (CLV) Prediction Project\n",
    "This notebook predicts customer lifetime value (LTV) based on purchase behavior using Random Forest Regression."
   ]
  },
  {
   "cell_type": "code",
   "execution_count": null,
   "id": "fb1eedda",
   "metadata": {},
   "outputs": [],
   "source": [
    "import pandas as pd\n",
    "import numpy as np\n",
    "import matplotlib.pyplot as plt\n",
    "import seaborn as sns\n",
    "from sklearn.model_selection import train_test_split\n",
    "from sklearn.ensemble import RandomForestRegressor\n",
    "from sklearn.metrics import mean_absolute_error, mean_squared_error"
   ]
  },
  {
   "cell_type": "code",
   "execution_count": null,
   "id": "e2946141",
   "metadata": {},
   "outputs": [],
   "source": [
    "# Load dataset safely\n",
    "data_preview = pd.read_excel('Online Retail.xlsx', nrows=1000)\n",
    "print(\"Preview of data:\")\n",
    "print(data_preview.head())\n",
    "print(\"\\nColumns in the dataset:\")\n",
    "print(data_preview.columns)\n",
    "\n",
    "chunks = pd.read_excel('Online Retail.xlsx', chunksize=10000)\n",
    "data = pd.concat(chunks)\n",
    "print(f\"\\n✅ Data loaded successfully: {data.shape}\")"
   ]
  },
  {
   "cell_type": "code",
   "execution_count": null,
   "id": "058a2e2e",
   "metadata": {},
   "outputs": [],
   "source": [
    "# Data Cleaning\n",
    "data = data.dropna(subset=['CustomerID'])\n",
    "data = data[~data['InvoiceNo'].astype(str).str.startswith('C')]\n",
    "data['TotalAmount'] = data['Quantity'] * data['UnitPrice']\n",
    "print(\"\\nCleaned data sample:\")\n",
    "print(data.head())"
   ]
  },
  {
   "cell_type": "code",
   "execution_count": null,
   "id": "2f55ba10",
   "metadata": {},
   "outputs": [],
   "source": [
    "# Feature Engineering\n",
    "import datetime as dt\n",
    "reference_date = data['InvoiceDate'].max() + pd.Timedelta(days=1)\n",
    "\n",
    "customer_df = data.groupby('CustomerID').agg({\n",
    "    'InvoiceDate': lambda x: (reference_date - x.max()).days,\n",
    "    'InvoiceNo': 'nunique',\n",
    "    'TotalAmount': 'sum'\n",
    "}).reset_index()\n",
    "\n",
    "customer_df.columns = ['CustomerID', 'Recency', 'Frequency', 'Monetary']\n",
    "customer_df['AOV'] = customer_df['Monetary'] / customer_df['Frequency']\n",
    "print(\"\\nCustomer-level summary:\")\n",
    "print(customer_df.head())"
   ]
  },
  {
   "cell_type": "code",
   "execution_count": null,
   "id": "5a4b4e3d",
   "metadata": {},
   "outputs": [],
   "source": [
    "# Train Regression Model\n",
    "X = customer_df[['Recency', 'Frequency', 'AOV']]\n",
    "y = customer_df['Monetary']\n",
    "\n",
    "X_train, X_test, y_train, y_test = train_test_split(X, y, test_size=0.2, random_state=42)\n",
    "\n",
    "model = RandomForestRegressor(n_estimators=100, random_state=42)\n",
    "model.fit(X_train, y_train)\n",
    "\n",
    "y_pred = model.predict(X_test)"
   ]
  },
  {
   "cell_type": "code",
   "execution_count": null,
   "id": "a1f88f72",
   "metadata": {},
   "outputs": [],
   "source": [
    "# Model Evaluation\n",
    "mae = mean_absolute_error(y_test, y_pred)\n",
    "rmse = np.sqrt(mean_squared_error(y_test, y_pred))\n",
    "print(f\"\\nModel Performance:\\nMAE = {mae:.2f}\\nRMSE = {rmse:.2f}\")"
   ]
  },
  {
   "cell_type": "code",
   "execution_count": null,
   "id": "3d14f1c9",
   "metadata": {},
   "outputs": [],
   "source": [
    "# Predict and Segment Customers\n",
    "customer_df['Predicted_LTV'] = model.predict(X)\n",
    "customer_df['Segment'] = pd.qcut(customer_df['Predicted_LTV'], q=4, labels=['Low', 'Mid-Low', 'Mid-High', 'High'])\n",
    "print(\"\\nPredicted LTV and Segments:\")\n",
    "print(customer_df.head())"
   ]
  },
  {
   "cell_type": "code",
   "execution_count": null,
   "id": "eeaa9e20",
   "metadata": {},
   "outputs": [],
   "source": [
    "# Visualization\n",
    "sns.histplot(customer_df['Predicted_LTV'], bins=30)\n",
    "plt.title('Predicted LTV Distribution')\n",
    "plt.xlabel('Predicted LTV')\n",
    "plt.ylabel('Count of Customers')\n",
    "plt.show()\n",
    "\n",
    "sns.boxplot(x='Segment', y='Predicted_LTV', data=customer_df)\n",
    "plt.title('Customer Segments by LTV')\n",
    "plt.xlabel('Segment')\n",
    "plt.ylabel('Predicted LTV')\n",
    "plt.show()"
   ]
  },
  {
   "cell_type": "code",
   "execution_count": null,
   "id": "cb8b26d7",
   "metadata": {},
   "outputs": [],
   "source": [
    "# Save Results\n",
    "customer_df.to_csv('final_ltv_predictions.csv', index=False)\n",
    "print(\"\\n✅ Results saved as final_ltv_predictions.csv\")"
   ]
  },
  {
   "cell_type": "markdown",
   "id": "8396cfe6",
   "metadata": {},
   "source": [
    "## 📈 Power BI Dashboard Design Suggestions\n",
    "1. **Dashboard Title:** *Customer Lifetime Value Insights Dashboard*\n",
    "2. **Main Pages to Include:**\n",
    "   - **Overview Page:** Show KPIs like total customers, average LTV, MAE, and RMSE values.\n",
    "   - **Segmentation Page:** Highlight different LTV segments (Low, Mid-Low, Mid-High, High) using pie or bar charts.\n",
    "   - **Trend Page:** Visualize LTV trends over time using a line chart.\n",
    "   - **Customer Detail Page:** Add an interactive table with slicers for Segment, Country, and Date filters.\n",
    "3. **Interactive Elements:**\n",
    "   - Use slicers for filtering by country, date, or LTV segment.\n",
    "   - Use tooltips to show customer-level details on hover.\n",
    "   - Add bookmarks for switching between summary and detailed views.\n",
    "4. **Color Palette:**\n",
    "   - Low LTV → Red\n",
    "   - Mid-Low → Orange\n",
    "   - Mid-High → Yellow\n",
    "   - High → Green\n",
    "\n",
    "✅ This Power BI dashboard helps visualize and interpret customer value distribution interactively for business strategy insights."
   ]
  }
 ],
 "metadata": {},
 "nbformat": 4,
 "nbformat_minor": 5
}
